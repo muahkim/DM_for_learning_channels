{
 "cells": [
  {
   "cell_type": "markdown",
   "id": "67140e6f",
   "metadata": {
    "id": "3d79849a"
   },
   "source": [
    "[![Open In Colab](https://colab.research.google.com/assets/colab-badge.svg)](https://colab.research.google.com/github/azad-academy/denoising-diffusion-model/blob/main/diffusion_model_demo.ipynb)"
   ]
  },
  {
   "cell_type": "markdown",
   "id": "68255ba6",
   "metadata": {
    "id": "6671430e"
   },
   "source": [
    "## Learning Channel Distribution by Diffusion Models\n",
    " \n",
    "This notebook file is a framework to learn channels by their conditional distributions: the distirubtions of the channel output for given channel inputs. To serve that, we edited a standard 1-dimensional U-Net to be conditional on the channel input. For the channel model, we used a correlated Rayleigh fading model."
   ]
  },
  {
   "cell_type": "code",
   "execution_count": 1,
   "id": "300e1153",
   "metadata": {
    "executionInfo": {
     "elapsed": 1182,
     "status": "ok",
     "timestamp": 1669225000074,
     "user": {
      "displayName": "M. Kim",
      "userId": "15172492698916514875"
     },
     "user_tz": -60
    },
    "id": "e2ddcaa7"
   },
   "outputs": [],
   "source": [
    "# Import packages\n",
    "import matplotlib.pyplot as plt\n",
    "import numpy as np\n",
    "from functools import partial\n",
    "import torch\n",
    "#import tqdm as notebook_tqdm\n",
    "from tqdm import tqdm\n",
    "\n",
    "import sys\n",
    "sys.path.append('src/')\n",
    "\n",
    "# Import modules from own libraries\n",
    "from denoising_diffusion_pytorch_1d_cond import GaussianDiffusion1D, Unet1D, Trainer1D, Dataset1D\n",
    "import channel_models\n",
    "\n",
    "# Set the device\n",
    "use_cuda = torch.cuda.is_available()\n",
    "device = torch.device(\"cuda\" if use_cuda else \"cpu\")"
   ]
  },
  {
   "cell_type": "markdown",
   "id": "d964b7ae",
   "metadata": {},
   "source": [
    "## Choose channel model and diffusion model type"
   ]
  },
  {
   "cell_type": "code",
   "execution_count": 2,
   "id": "71ef4514",
   "metadata": {},
   "outputs": [],
   "source": [
    "channel_model_str = 'corrRayleigh' #available options: AWGN, Rayleigh, SSPA"
   ]
  },
  {
   "cell_type": "markdown",
   "id": "bdca15fa",
   "metadata": {},
   "source": [
    "## Channel model settings"
   ]
  },
  {
   "cell_type": "code",
   "execution_count": 3,
   "id": "d71ac72d-673e-4318-a3b7-9a572c78b072",
   "metadata": {},
   "outputs": [],
   "source": [
    "def SNR_to_noise(snrdb):\n",
    "    '''Transform EbNo[dB]/snr to noise power'''\n",
    "    snr = 10**(snrdb/10)\n",
    "    noise_std = 1/np.sqrt(2*snr)\n",
    "    return noise_std\n",
    "\n",
    "class Channel_Config:\n",
    "    def __init__(self, channel_model_str, blocklength, training_noise_std, device=\"cpu\", f_dopp_norm=None):\n",
    "        super().__init__()\n",
    "        self.channel_model_str = channel_model_str\n",
    "        self.blocklength = blocklength\n",
    "        self.training_noise_std = training_noise_std\n",
    "        self.device = device\n",
    "        self.f_dopp_norm = f_dopp_norm\n",
    "        self.cov = channel_models.Rayleigh_covariance_generator(n, f_dopp_norm,\n",
    "                                                 dtype_cov=torch.cfloat) if f_dopp_norm is not None else None\n",
    "\n",
    "    def channel_model_fn(self):\n",
    "        channel_model_str = self.channel_model_str\n",
    "        if channel_model_str == 'AWGN':\n",
    "            channel_model = channel_models.ch_AWGN\n",
    "        elif channel_model_str == 'Rayleigh':\n",
    "            channel_model = channel_models.ch_Rayleigh_AWGN_n\n",
    "        elif channel_model_str == 'SSPA':\n",
    "            channel_model = channel_models.ch_SSPA\n",
    "        elif channel_model_str == 'corrRayleigh':\n",
    "            assert f_dopp_norm is not None, 'The normalized doppler frequency, f_dopp_norm, is not given.'\n",
    "            cov = self.cov\n",
    "            channel_model = partial(channel_models.ch_corr_Rayleigh_by_cov, Cov_h=cov)\n",
    "        else:\n",
    "            raise Exception(\"Unrecognized channel model. Possible channel models: AWGN, Rayleigh, SSPA.\")\n",
    "        self.channel_model = channel_model\n",
    "        return channel_model\n",
    "\n",
    "    def show_cov(self):\n",
    "        fig, ax = plt.subplots(figsize=(3, 3))\n",
    "        im = ax.imshow(self.cov.real, cmap='hot', )  # , interpolation='nearest')\n",
    "        #ax.set_title(r'Covariance, $\\bar{f}_D=' + str(self.f_dopp_norm) + '$')\n",
    "        plt.colorbar(im, ax=ax, fraction=0.046)\n",
    "        plt.savefig(f'figures/cov_fD={self.f_dopp_norm:.3f}.pdf', bbox_inches='tight')\n",
    "        plt.show()\n"
   ]
  },
  {
   "cell_type": "code",
   "execution_count": 4,
   "id": "7a28507e-c877-4cd3-905b-d913ba39f812",
   "metadata": {},
   "outputs": [],
   "source": [
    "def SNR_to_noise(snrdb):\n",
    "    '''Transform EbNo[dB]/snr to noise power'''\n",
    "    snr = 10**(snrdb/10)\n",
    "    noise_std = 1/np.sqrt(2*snr)\n",
    "    return noise_std"
   ]
  },
  {
   "cell_type": "code",
   "execution_count": 5,
   "id": "7c08fbc5-43ad-4028-849b-db62be2a9724",
   "metadata": {},
   "outputs": [],
   "source": [
    "def generate_training_seq(dataset_size, Config_ch, batch_size = 100):\n",
    "    n = Config_ch.blocklength\n",
    "    training_seq = torch.zeros(dataset_size, 2*2, n)\n",
    "    idx = 0\n",
    "    for i, batch in enumerate(torch.split(training_seq, batch_size)):\n",
    "        bs = batch.shape[0]\n",
    "        \n",
    "        training_x = torch.randn(bs, n, dtype=torch.cfloat, device=Config_ch.device)\n",
    "        channel_model = Config_ch.channel_model_fn()\n",
    "        training_y = channel_model(training_x, Config_ch.training_noise_std, Config_ch.device)\n",
    "        training_x = torch.transpose(torch.view_as_real(training_x), 1, 2)\n",
    "        training_y = torch.transpose(torch.view_as_real(training_y), 1, 2)\n",
    "        training_seq[idx:idx+bs, :, :] = torch.cat((training_y, training_x), dim=1)\n",
    "        idx += bs\n",
    "    return training_seq"
   ]
  },
  {
   "cell_type": "code",
   "execution_count": 6,
   "id": "d9448af7",
   "metadata": {
    "executionInfo": {
     "elapsed": 2418,
     "status": "ok",
     "timestamp": 1669225002490,
     "user": {
      "displayName": "M. Kim",
      "userId": "15172492698916514875"
     },
     "user_tz": -60
    },
    "id": "d3ebbf23"
   },
   "outputs": [],
   "source": [
    "# Channel Model\n",
    "n = 128  # Block length\n",
    "f_dopp_norm = 0.01\n",
    "\n",
    "TRAINING_SNR = 15 # decibel\n",
    "noise_std = SNR_to_noise(TRAINING_SNR)\n",
    "Config_ch = Channel_Config(channel_model_str, n, noise_std, device=device, f_dopp_norm=f_dopp_norm)"
   ]
  },
  {
   "cell_type": "code",
   "execution_count": 7,
   "id": "de90cea4-65c4-4ba1-a761-809f257b8253",
   "metadata": {},
   "outputs": [
    {
     "data": {
      "image/png": "[encoded data removed]",
      "text/plain": [
       "<Figure size 300x300 with 2 Axes>"
      ]
     },
     "metadata": {},
     "output_type": "display_data"
    }
   ],
   "source": [
    "Config_ch.show_cov()"
   ]
  },
  {
   "cell_type": "markdown",
   "id": "9054f6f0",
   "metadata": {},
   "source": [
    "## Deep Learning Settings - model parameters, training and testing hyperparameters, etc."
   ]
  },
  {
   "cell_type": "code",
   "execution_count": 8,
   "id": "9a44749a-3ce3-457a-8fcd-ddd92b53a1cd",
   "metadata": {},
   "outputs": [],
   "source": [
    "# Diffusion Model \n",
    "\n",
    "model = Unet1D(\n",
    "    dim = 24, \n",
    "    dim_mults = (1, 2, 4, 8),\n",
    "    out_dim = 2, # Due to the assumption of the complex channel\n",
    "    channels = 2 * 2, # Because of feeding the condition sequence having the same size   \n",
    "    channels_out = 2 # Due to the assumption of the complex channel\n",
    ")\n",
    "\n",
    "diffusion = GaussianDiffusion1D(\n",
    "    model,\n",
    "    seq_length = n, # size of the input sequence.\n",
    "    timesteps = 100,\n",
    "    objective = 'pred_v'\n",
    ")"
   ]
  },
  {
   "cell_type": "code",
   "execution_count": 9,
   "id": "45cf5564-db4b-4182-ac87-32add3460d62",
   "metadata": {},
   "outputs": [],
   "source": [
    "training_seq = generate_training_seq(10 ** 3, Config_ch)\n",
    "dataset = Dataset1D(training_seq) "
   ]
  },
  {
   "cell_type": "code",
   "execution_count": 10,
   "id": "084dfa61-f0f6-44b9-9e60-63de3b02a19c",
   "metadata": {},
   "outputs": [
    {
     "name": "stdout",
     "output_type": "stream",
     "text": [
      "loading from version 1.9.5\n"
     ]
    }
   ],
   "source": [
    "trainer = Trainer1D(\n",
    "    diffusion,\n",
    "    dataset = dataset,\n",
    "    train_batch_size = 1000,\n",
    "    train_lr = 1e-5,\n",
    "    train_num_steps = 70000,         # total training steps\n",
    "    gradient_accumulate_every = 2,    # gradient accumulation steps\n",
    "    ema_decay = 0.995,                # exponential moving average decay\n",
    "    amp = True,                       # turn on mixed precision\n",
    ")\n",
    "\n",
    "trainer.load(milestone=50)\n",
    "#trainer.train()"
   ]
  },
  {
   "cell_type": "code",
   "execution_count": null,
   "id": "019d16c2-e276-4133-805b-8d160f1f222a",
   "metadata": {},
   "outputs": [],
   "source": []
  },
  {
   "cell_type": "code",
   "execution_count": null,
   "id": "62bbe536-c23f-4a3b-b975-69da2fecc735",
   "metadata": {},
   "outputs": [],
   "source": []
  },
  {
   "cell_type": "code",
   "execution_count": null,
   "id": "56e62e48-cf1a-49aa-8a9a-db05b65929e0",
   "metadata": {},
   "outputs": [],
   "source": []
  },
  {
   "cell_type": "code",
   "execution_count": 11,
   "id": "627f20ba-45ca-4319-a2c8-12d82cd06377",
   "metadata": {
    "scrolled": true
   },
   "outputs": [
    {
     "data": {
      "text/plain": [
       "Unet1D(\n",
       "  (init_conv): Conv1d(4, 24, kernel_size=(7,), stride=(1,), padding=(3,))\n",
       "  (time_mlp): Sequential(\n",
       "    (0): SinusoidalPosEmb()\n",
       "    (1): Linear(in_features=24, out_features=96, bias=True)\n",
       "    (2): GELU(approximate='none')\n",
       "    (3): Linear(in_features=96, out_features=96, bias=True)\n",
       "  )\n",
       "  (downs): ModuleList(\n",
       "    (0): ModuleList(\n",
       "      (0): ResnetBlock(\n",
       "        (mlp): Sequential(\n",
       "          (0): SiLU()\n",
       "          (1): Linear(in_features=96, out_features=48, bias=True)\n",
       "        )\n",
       "        (block1): Block(\n",
       "          (proj): Conv1d(24, 24, kernel_size=(3,), stride=(1,), padding=(1,))\n",
       "          (norm): GroupNorm(8, 24, eps=1e-05, affine=True)\n",
       "          (act): SiLU()\n",
       "        )\n",
       "        (block2): Block(\n",
       "          (proj): Conv1d(24, 24, kernel_size=(3,), stride=(1,), padding=(1,))\n",
       "          (norm): GroupNorm(8, 24, eps=1e-05, affine=True)\n",
       "          (act): SiLU()\n",
       "        )\n",
       "        (res_conv): Identity()\n",
       "      )\n",
       "      (1): ResnetBlock(\n",
       "        (mlp): Sequential(\n",
       "          (0): SiLU()\n",
       "          (1): Linear(in_features=96, out_features=48, bias=True)\n",
       "        )\n",
       "        (block1): Block(\n",
       "          (proj): Conv1d(24, 24, kernel_size=(3,), stride=(1,), padding=(1,))\n",
       "          (norm): GroupNorm(8, 24, eps=1e-05, affine=True)\n",
       "          (act): SiLU()\n",
       "        )\n",
       "        (block2): Block(\n",
       "          (proj): Conv1d(24, 24, kernel_size=(3,), stride=(1,), padding=(1,))\n",
       "          (norm): GroupNorm(8, 24, eps=1e-05, affine=True)\n",
       "          (act): SiLU()\n",
       "        )\n",
       "        (res_conv): Identity()\n",
       "      )\n",
       "      (2): Residual(\n",
       "        (fn): PreNorm(\n",
       "          (fn): LinearAttention(\n",
       "            (to_qkv): Conv1d(24, 384, kernel_size=(1,), stride=(1,), bias=False)\n",
       "            (to_out): Sequential(\n",
       "              (0): Conv1d(128, 24, kernel_size=(1,), stride=(1,))\n",
       "              (1): RMSNorm()\n",
       "            )\n",
       "          )\n",
       "          (norm): RMSNorm()\n",
       "        )\n",
       "      )\n",
       "      (3): Conv1d(24, 24, kernel_size=(4,), stride=(2,), padding=(1,))\n",
       "    )\n",
       "    (1): ModuleList(\n",
       "      (0): ResnetBlock(\n",
       "        (mlp): Sequential(\n",
       "          (0): SiLU()\n",
       "          (1): Linear(in_features=96, out_features=48, bias=True)\n",
       "        )\n",
       "        (block1): Block(\n",
       "          (proj): Conv1d(24, 24, kernel_size=(3,), stride=(1,), padding=(1,))\n",
       "          (norm): GroupNorm(8, 24, eps=1e-05, affine=True)\n",
       "          (act): SiLU()\n",
       "        )\n",
       "        (block2): Block(\n",
       "          (proj): Conv1d(24, 24, kernel_size=(3,), stride=(1,), padding=(1,))\n",
       "          (norm): GroupNorm(8, 24, eps=1e-05, affine=True)\n",
       "          (act): SiLU()\n",
       "        )\n",
       "        (res_conv): Identity()\n",
       "      )\n",
       "      (1): ResnetBlock(\n",
       "        (mlp): Sequential(\n",
       "          (0): SiLU()\n",
       "          (1): Linear(in_features=96, out_features=48, bias=True)\n",
       "        )\n",
       "        (block1): Block(\n",
       "          (proj): Conv1d(24, 24, kernel_size=(3,), stride=(1,), padding=(1,))\n",
       "          (norm): GroupNorm(8, 24, eps=1e-05, affine=True)\n",
       "          (act): SiLU()\n",
       "        )\n",
       "        (block2): Block(\n",
       "          (proj): Conv1d(24, 24, kernel_size=(3,), stride=(1,), padding=(1,))\n",
       "          (norm): GroupNorm(8, 24, eps=1e-05, affine=True)\n",
       "          (act): SiLU()\n",
       "        )\n",
       "        (res_conv): Identity()\n",
       "      )\n",
       "      (2): Residual(\n",
       "        (fn): PreNorm(\n",
       "          (fn): LinearAttention(\n",
       "            (to_qkv): Conv1d(24, 384, kernel_size=(1,), stride=(1,), bias=False)\n",
       "            (to_out): Sequential(\n",
       "              (0): Conv1d(128, 24, kernel_size=(1,), stride=(1,))\n",
       "              (1): RMSNorm()\n",
       "            )\n",
       "          )\n",
       "          (norm): RMSNorm()\n",
       "        )\n",
       "      )\n",
       "      (3): Conv1d(24, 48, kernel_size=(4,), stride=(2,), padding=(1,))\n",
       "    )\n",
       "    (2): ModuleList(\n",
       "      (0): ResnetBlock(\n",
       "        (mlp): Sequential(\n",
       "          (0): SiLU()\n",
       "          (1): Linear(in_features=96, out_features=96, bias=True)\n",
       "        )\n",
       "        (block1): Block(\n",
       "          (proj): Conv1d(48, 48, kernel_size=(3,), stride=(1,), padding=(1,))\n",
       "          (norm): GroupNorm(8, 48, eps=1e-05, affine=True)\n",
       "          (act): SiLU()\n",
       "        )\n",
       "        (block2): Block(\n",
       "          (proj): Conv1d(48, 48, kernel_size=(3,), stride=(1,), padding=(1,))\n",
       "          (norm): GroupNorm(8, 48, eps=1e-05, affine=True)\n",
       "          (act): SiLU()\n",
       "        )\n",
       "        (res_conv): Identity()\n",
       "      )\n",
       "      (1): ResnetBlock(\n",
       "        (mlp): Sequential(\n",
       "          (0): SiLU()\n",
       "          (1): Linear(in_features=96, out_features=96, bias=True)\n",
       "        )\n",
       "        (block1): Block(\n",
       "          (proj): Conv1d(48, 48, kernel_size=(3,), stride=(1,), padding=(1,))\n",
       "          (norm): GroupNorm(8, 48, eps=1e-05, affine=True)\n",
       "          (act): SiLU()\n",
       "        )\n",
       "        (block2): Block(\n",
       "          (proj): Conv1d(48, 48, kernel_size=(3,), stride=(1,), padding=(1,))\n",
       "          (norm): GroupNorm(8, 48, eps=1e-05, affine=True)\n",
       "          (act): SiLU()\n",
       "        )\n",
       "        (res_conv): Identity()\n",
       "      )\n",
       "      (2): Residual(\n",
       "        (fn): PreNorm(\n",
       "          (fn): LinearAttention(\n",
       "            (to_qkv): Conv1d(48, 384, kernel_size=(1,), stride=(1,), bias=False)\n",
       "            (to_out): Sequential(\n",
       "              (0): Conv1d(128, 48, kernel_size=(1,), stride=(1,))\n",
       "              (1): RMSNorm()\n",
       "            )\n",
       "          )\n",
       "          (norm): RMSNorm()\n",
       "        )\n",
       "      )\n",
       "      (3): Conv1d(48, 96, kernel_size=(4,), stride=(2,), padding=(1,))\n",
       "    )\n",
       "    (3): ModuleList(\n",
       "      (0): ResnetBlock(\n",
       "        (mlp): Sequential(\n",
       "          (0): SiLU()\n",
       "          (1): Linear(in_features=96, out_features=192, bias=True)\n",
       "        )\n",
       "        (block1): Block(\n",
       "          (proj): Conv1d(96, 96, kernel_size=(3,), stride=(1,), padding=(1,))\n",
       "          (norm): GroupNorm(8, 96, eps=1e-05, affine=True)\n",
       "          (act): SiLU()\n",
       "        )\n",
       "        (block2): Block(\n",
       "          (proj): Conv1d(96, 96, kernel_size=(3,), stride=(1,), padding=(1,))\n",
       "          (norm): GroupNorm(8, 96, eps=1e-05, affine=True)\n",
       "          (act): SiLU()\n",
       "        )\n",
       "        (res_conv): Identity()\n",
       "      )\n",
       "      (1): ResnetBlock(\n",
       "        (mlp): Sequential(\n",
       "          (0): SiLU()\n",
       "          (1): Linear(in_features=96, out_features=192, bias=True)\n",
       "        )\n",
       "        (block1): Block(\n",
       "          (proj): Conv1d(96, 96, kernel_size=(3,), stride=(1,), padding=(1,))\n",
       "          (norm): GroupNorm(8, 96, eps=1e-05, affine=True)\n",
       "          (act): SiLU()\n",
       "        )\n",
       "        (block2): Block(\n",
       "          (proj): Conv1d(96, 96, kernel_size=(3,), stride=(1,), padding=(1,))\n",
       "          (norm): GroupNorm(8, 96, eps=1e-05, affine=True)\n",
       "          (act): SiLU()\n",
       "        )\n",
       "        (res_conv): Identity()\n",
       "      )\n",
       "      (2): Residual(\n",
       "        (fn): PreNorm(\n",
       "          (fn): LinearAttention(\n",
       "            (to_qkv): Conv1d(96, 384, kernel_size=(1,), stride=(1,), bias=False)\n",
       "            (to_out): Sequential(\n",
       "              (0): Conv1d(128, 96, kernel_size=(1,), stride=(1,))\n",
       "              (1): RMSNorm()\n",
       "            )\n",
       "          )\n",
       "          (norm): RMSNorm()\n",
       "        )\n",
       "      )\n",
       "      (3): Conv1d(96, 192, kernel_size=(3,), stride=(1,), padding=(1,))\n",
       "    )\n",
       "  )\n",
       "  (ups): ModuleList(\n",
       "    (0): ModuleList(\n",
       "      (0): ResnetBlock(\n",
       "        (mlp): Sequential(\n",
       "          (0): SiLU()\n",
       "          (1): Linear(in_features=96, out_features=384, bias=True)\n",
       "        )\n",
       "        (block1): Block(\n",
       "          (proj): Conv1d(288, 192, kernel_size=(3,), stride=(1,), padding=(1,))\n",
       "          (norm): GroupNorm(8, 192, eps=1e-05, affine=True)\n",
       "          (act): SiLU()\n",
       "        )\n",
       "        (block2): Block(\n",
       "          (proj): Conv1d(192, 192, kernel_size=(3,), stride=(1,), padding=(1,))\n",
       "          (norm): GroupNorm(8, 192, eps=1e-05, affine=True)\n",
       "          (act): SiLU()\n",
       "        )\n",
       "        (res_conv): Conv1d(288, 192, kernel_size=(1,), stride=(1,))\n",
       "      )\n",
       "      (1): ResnetBlock(\n",
       "        (mlp): Sequential(\n",
       "          (0): SiLU()\n",
       "          (1): Linear(in_features=96, out_features=384, bias=True)\n",
       "        )\n",
       "        (block1): Block(\n",
       "          (proj): Conv1d(288, 192, kernel_size=(3,), stride=(1,), padding=(1,))\n",
       "          (norm): GroupNorm(8, 192, eps=1e-05, affine=True)\n",
       "          (act): SiLU()\n",
       "        )\n",
       "        (block2): Block(\n",
       "          (proj): Conv1d(192, 192, kernel_size=(3,), stride=(1,), padding=(1,))\n",
       "          (norm): GroupNorm(8, 192, eps=1e-05, affine=True)\n",
       "          (act): SiLU()\n",
       "        )\n",
       "        (res_conv): Conv1d(288, 192, kernel_size=(1,), stride=(1,))\n",
       "      )\n",
       "      (2): Residual(\n",
       "        (fn): PreNorm(\n",
       "          (fn): LinearAttention(\n",
       "            (to_qkv): Conv1d(192, 384, kernel_size=(1,), stride=(1,), bias=False)\n",
       "            (to_out): Sequential(\n",
       "              (0): Conv1d(128, 192, kernel_size=(1,), stride=(1,))\n",
       "              (1): RMSNorm()\n",
       "            )\n",
       "          )\n",
       "          (norm): RMSNorm()\n",
       "        )\n",
       "      )\n",
       "      (3): Sequential(\n",
       "        (0): Upsample(scale_factor=2.0, mode=nearest)\n",
       "        (1): Conv1d(192, 96, kernel_size=(3,), stride=(1,), padding=(1,))\n",
       "      )\n",
       "    )\n",
       "    (1): ModuleList(\n",
       "      (0): ResnetBlock(\n",
       "        (mlp): Sequential(\n",
       "          (0): SiLU()\n",
       "          (1): Linear(in_features=96, out_features=192, bias=True)\n",
       "        )\n",
       "        (block1): Block(\n",
       "          (proj): Conv1d(144, 96, kernel_size=(3,), stride=(1,), padding=(1,))\n",
       "          (norm): GroupNorm(8, 96, eps=1e-05, affine=True)\n",
       "          (act): SiLU()\n",
       "        )\n",
       "        (block2): Block(\n",
       "          (proj): Conv1d(96, 96, kernel_size=(3,), stride=(1,), padding=(1,))\n",
       "          (norm): GroupNorm(8, 96, eps=1e-05, affine=True)\n",
       "          (act): SiLU()\n",
       "        )\n",
       "        (res_conv): Conv1d(144, 96, kernel_size=(1,), stride=(1,))\n",
       "      )\n",
       "      (1): ResnetBlock(\n",
       "        (mlp): Sequential(\n",
       "          (0): SiLU()\n",
       "          (1): Linear(in_features=96, out_features=192, bias=True)\n",
       "        )\n",
       "        (block1): Block(\n",
       "          (proj): Conv1d(144, 96, kernel_size=(3,), stride=(1,), padding=(1,))\n",
       "          (norm): GroupNorm(8, 96, eps=1e-05, affine=True)\n",
       "          (act): SiLU()\n",
       "        )\n",
       "        (block2): Block(\n",
       "          (proj): Conv1d(96, 96, kernel_size=(3,), stride=(1,), padding=(1,))\n",
       "          (norm): GroupNorm(8, 96, eps=1e-05, affine=True)\n",
       "          (act): SiLU()\n",
       "        )\n",
       "        (res_conv): Conv1d(144, 96, kernel_size=(1,), stride=(1,))\n",
       "      )\n",
       "      (2): Residual(\n",
       "        (fn): PreNorm(\n",
       "          (fn): LinearAttention(\n",
       "            (to_qkv): Conv1d(96, 384, kernel_size=(1,), stride=(1,), bias=False)\n",
       "            (to_out): Sequential(\n",
       "              (0): Conv1d(128, 96, kernel_size=(1,), stride=(1,))\n",
       "              (1): RMSNorm()\n",
       "            )\n",
       "          )\n",
       "          (norm): RMSNorm()\n",
       "        )\n",
       "      )\n",
       "      (3): Sequential(\n",
       "        (0): Upsample(scale_factor=2.0, mode=nearest)\n",
       "        (1): Conv1d(96, 48, kernel_size=(3,), stride=(1,), padding=(1,))\n",
       "      )\n",
       "    )\n",
       "    (2): ModuleList(\n",
       "      (0): ResnetBlock(\n",
       "        (mlp): Sequential(\n",
       "          (0): SiLU()\n",
       "          (1): Linear(in_features=96, out_features=96, bias=True)\n",
       "        )\n",
       "        (block1): Block(\n",
       "          (proj): Conv1d(72, 48, kernel_size=(3,), stride=(1,), padding=(1,))\n",
       "          (norm): GroupNorm(8, 48, eps=1e-05, affine=True)\n",
       "          (act): SiLU()\n",
       "        )\n",
       "        (block2): Block(\n",
       "          (proj): Conv1d(48, 48, kernel_size=(3,), stride=(1,), padding=(1,))\n",
       "          (norm): GroupNorm(8, 48, eps=1e-05, affine=True)\n",
       "          (act): SiLU()\n",
       "        )\n",
       "        (res_conv): Conv1d(72, 48, kernel_size=(1,), stride=(1,))\n",
       "      )\n",
       "      (1): ResnetBlock(\n",
       "        (mlp): Sequential(\n",
       "          (0): SiLU()\n",
       "          (1): Linear(in_features=96, out_features=96, bias=True)\n",
       "        )\n",
       "        (block1): Block(\n",
       "          (proj): Conv1d(72, 48, kernel_size=(3,), stride=(1,), padding=(1,))\n",
       "          (norm): GroupNorm(8, 48, eps=1e-05, affine=True)\n",
       "          (act): SiLU()\n",
       "        )\n",
       "        (block2): Block(\n",
       "          (proj): Conv1d(48, 48, kernel_size=(3,), stride=(1,), padding=(1,))\n",
       "          (norm): GroupNorm(8, 48, eps=1e-05, affine=True)\n",
       "          (act): SiLU()\n",
       "        )\n",
       "        (res_conv): Conv1d(72, 48, kernel_size=(1,), stride=(1,))\n",
       "      )\n",
       "      (2): Residual(\n",
       "        (fn): PreNorm(\n",
       "          (fn): LinearAttention(\n",
       "            (to_qkv): Conv1d(48, 384, kernel_size=(1,), stride=(1,), bias=False)\n",
       "            (to_out): Sequential(\n",
       "              (0): Conv1d(128, 48, kernel_size=(1,), stride=(1,))\n",
       "              (1): RMSNorm()\n",
       "            )\n",
       "          )\n",
       "          (norm): RMSNorm()\n",
       "        )\n",
       "      )\n",
       "      (3): Sequential(\n",
       "        (0): Upsample(scale_factor=2.0, mode=nearest)\n",
       "        (1): Conv1d(48, 24, kernel_size=(3,), stride=(1,), padding=(1,))\n",
       "      )\n",
       "    )\n",
       "    (3): ModuleList(\n",
       "      (0): ResnetBlock(\n",
       "        (mlp): Sequential(\n",
       "          (0): SiLU()\n",
       "          (1): Linear(in_features=96, out_features=48, bias=True)\n",
       "        )\n",
       "        (block1): Block(\n",
       "          (proj): Conv1d(48, 24, kernel_size=(3,), stride=(1,), padding=(1,))\n",
       "          (norm): GroupNorm(8, 24, eps=1e-05, affine=True)\n",
       "          (act): SiLU()\n",
       "        )\n",
       "        (block2): Block(\n",
       "          (proj): Conv1d(24, 24, kernel_size=(3,), stride=(1,), padding=(1,))\n",
       "          (norm): GroupNorm(8, 24, eps=1e-05, affine=True)\n",
       "          (act): SiLU()\n",
       "        )\n",
       "        (res_conv): Conv1d(48, 24, kernel_size=(1,), stride=(1,))\n",
       "      )\n",
       "      (1): ResnetBlock(\n",
       "        (mlp): Sequential(\n",
       "          (0): SiLU()\n",
       "          (1): Linear(in_features=96, out_features=48, bias=True)\n",
       "        )\n",
       "        (block1): Block(\n",
       "          (proj): Conv1d(48, 24, kernel_size=(3,), stride=(1,), padding=(1,))\n",
       "          (norm): GroupNorm(8, 24, eps=1e-05, affine=True)\n",
       "          (act): SiLU()\n",
       "        )\n",
       "        (block2): Block(\n",
       "          (proj): Conv1d(24, 24, kernel_size=(3,), stride=(1,), padding=(1,))\n",
       "          (norm): GroupNorm(8, 24, eps=1e-05, affine=True)\n",
       "          (act): SiLU()\n",
       "        )\n",
       "        (res_conv): Conv1d(48, 24, kernel_size=(1,), stride=(1,))\n",
       "      )\n",
       "      (2): Residual(\n",
       "        (fn): PreNorm(\n",
       "          (fn): LinearAttention(\n",
       "            (to_qkv): Conv1d(24, 384, kernel_size=(1,), stride=(1,), bias=False)\n",
       "            (to_out): Sequential(\n",
       "              (0): Conv1d(128, 24, kernel_size=(1,), stride=(1,))\n",
       "              (1): RMSNorm()\n",
       "            )\n",
       "          )\n",
       "          (norm): RMSNorm()\n",
       "        )\n",
       "      )\n",
       "      (3): Conv1d(24, 24, kernel_size=(3,), stride=(1,), padding=(1,))\n",
       "    )\n",
       "  )\n",
       "  (mid_block1): ResnetBlock(\n",
       "    (mlp): Sequential(\n",
       "      (0): SiLU()\n",
       "      (1): Linear(in_features=96, out_features=384, bias=True)\n",
       "    )\n",
       "    (block1): Block(\n",
       "      (proj): Conv1d(192, 192, kernel_size=(3,), stride=(1,), padding=(1,))\n",
       "      (norm): GroupNorm(8, 192, eps=1e-05, affine=True)\n",
       "      (act): SiLU()\n",
       "    )\n",
       "    (block2): Block(\n",
       "      (proj): Conv1d(192, 192, kernel_size=(3,), stride=(1,), padding=(1,))\n",
       "      (norm): GroupNorm(8, 192, eps=1e-05, affine=True)\n",
       "      (act): SiLU()\n",
       "    )\n",
       "    (res_conv): Identity()\n",
       "  )\n",
       "  (mid_attn): Residual(\n",
       "    (fn): PreNorm(\n",
       "      (fn): Attention(\n",
       "        (to_qkv): Conv1d(192, 384, kernel_size=(1,), stride=(1,), bias=False)\n",
       "        (to_out): Conv1d(128, 192, kernel_size=(1,), stride=(1,))\n",
       "      )\n",
       "      (norm): RMSNorm()\n",
       "    )\n",
       "  )\n",
       "  (mid_block2): ResnetBlock(\n",
       "    (mlp): Sequential(\n",
       "      (0): SiLU()\n",
       "      (1): Linear(in_features=96, out_features=384, bias=True)\n",
       "    )\n",
       "    (block1): Block(\n",
       "      (proj): Conv1d(192, 192, kernel_size=(3,), stride=(1,), padding=(1,))\n",
       "      (norm): GroupNorm(8, 192, eps=1e-05, affine=True)\n",
       "      (act): SiLU()\n",
       "    )\n",
       "    (block2): Block(\n",
       "      (proj): Conv1d(192, 192, kernel_size=(3,), stride=(1,), padding=(1,))\n",
       "      (norm): GroupNorm(8, 192, eps=1e-05, affine=True)\n",
       "      (act): SiLU()\n",
       "    )\n",
       "    (res_conv): Identity()\n",
       "  )\n",
       "  (final_res_block): ResnetBlock(\n",
       "    (mlp): Sequential(\n",
       "      (0): SiLU()\n",
       "      (1): Linear(in_features=96, out_features=48, bias=True)\n",
       "    )\n",
       "    (block1): Block(\n",
       "      (proj): Conv1d(48, 24, kernel_size=(3,), stride=(1,), padding=(1,))\n",
       "      (norm): GroupNorm(8, 24, eps=1e-05, affine=True)\n",
       "      (act): SiLU()\n",
       "    )\n",
       "    (block2): Block(\n",
       "      (proj): Conv1d(24, 24, kernel_size=(3,), stride=(1,), padding=(1,))\n",
       "      (norm): GroupNorm(8, 24, eps=1e-05, affine=True)\n",
       "      (act): SiLU()\n",
       "    )\n",
       "    (res_conv): Conv1d(48, 24, kernel_size=(1,), stride=(1,))\n",
       "  )\n",
       "  (final_conv): Conv1d(24, 2, kernel_size=(1,), stride=(1,))\n",
       ")"
      ]
     },
     "execution_count": 11,
     "metadata": {},
     "output_type": "execute_result"
    }
   ],
   "source": [
    "model"
   ]
  },
  {
   "cell_type": "code",
   "execution_count": 12,
   "id": "621642ac",
   "metadata": {},
   "outputs": [
    {
     "name": "stdout",
     "output_type": "stream",
     "text": [
      "# of parameters (diffusion model): 2338418\n"
     ]
    }
   ],
   "source": [
    "total_params_gen = sum(p.numel() for p in model.parameters() if p.requires_grad)\n",
    "print('# of parameters (diffusion model): ' + str(total_params_gen))"
   ]
  },
  {
   "cell_type": "code",
   "execution_count": 17,
   "id": "0e1abffd-daf7-42fe-9fec-cedc95b81c49",
   "metadata": {
    "scrolled": true
   },
   "outputs": [
    {
     "name": "stdout",
     "output_type": "stream",
     "text": [
      "loading from version 1.9.5\n",
      "The trainer is loaded with the model of the 50-th milestone.\n"
     ]
    },
    {
     "data": {
      "application/vnd.jupyter.widget-view+json": {
       "model_id": "73be0fa970ef4ed6bd7fdbec6255de1e",
       "version_major": 2,
       "version_minor": 0
      },
      "text/plain": [
       "sampling loop time step:   0%|          | 0/100 [00:00<?, ?it/s]"
      ]
     },
     "metadata": {},
     "output_type": "display_data"
    },
    {
     "data": {
      "application/vnd.jupyter.widget-view+json": {
       "model_id": "d1e8a392d3e14f48b0f40cb9b8a9d6ad",
       "version_major": 2,
       "version_minor": 0
      },
      "text/plain": [
       "sampling loop time step:   0%|          | 0/100 [00:00<?, ?it/s]"
      ]
     },
     "metadata": {},
     "output_type": "display_data"
    },
    {
     "data": {
      "application/vnd.jupyter.widget-view+json": {
       "model_id": "2c299d603631482a93da886da34557bd",
       "version_major": 2,
       "version_minor": 0
      },
      "text/plain": [
       "sampling loop time step:   0%|          | 0/100 [00:00<?, ?it/s]"
      ]
     },
     "metadata": {},
     "output_type": "display_data"
    },
    {
     "data": {
      "application/vnd.jupyter.widget-view+json": {
       "model_id": "437e45b48b3b45fb925ac7969d460020",
       "version_major": 2,
       "version_minor": 0
      },
      "text/plain": [
       "sampling loop time step:   0%|          | 0/100 [00:00<?, ?it/s]"
      ]
     },
     "metadata": {},
     "output_type": "display_data"
    },
    {
     "data": {
      "application/vnd.jupyter.widget-view+json": {
       "model_id": "65852ecfb34c4c239803e8eb05e55a00",
       "version_major": 2,
       "version_minor": 0
      },
      "text/plain": [
       "sampling loop time step:   0%|          | 0/100 [00:00<?, ?it/s]"
      ]
     },
     "metadata": {},
     "output_type": "display_data"
    },
    {
     "data": {
      "application/vnd.jupyter.widget-view+json": {
       "model_id": "3dc5d8f44013404ba6a53a1d2755e8d4",
       "version_major": 2,
       "version_minor": 0
      },
      "text/plain": [
       "sampling loop time step:   0%|          | 0/100 [00:00<?, ?it/s]"
      ]
     },
     "metadata": {},
     "output_type": "display_data"
    },
    {
     "data": {
      "application/vnd.jupyter.widget-view+json": {
       "model_id": "acbd58b739fa4f229c15a39c07b7c949",
       "version_major": 2,
       "version_minor": 0
      },
      "text/plain": [
       "sampling loop time step:   0%|          | 0/100 [00:00<?, ?it/s]"
      ]
     },
     "metadata": {},
     "output_type": "display_data"
    },
    {
     "data": {
      "application/vnd.jupyter.widget-view+json": {
       "model_id": "66d767b10fa44fb1bc009b1bf78ba381",
       "version_major": 2,
       "version_minor": 0
      },
      "text/plain": [
       "sampling loop time step:   0%|          | 0/100 [00:00<?, ?it/s]"
      ]
     },
     "metadata": {},
     "output_type": "display_data"
    },
    {
     "data": {
      "application/vnd.jupyter.widget-view+json": {
       "model_id": "f8956596be4648b5814b36bec17da8bf",
       "version_major": 2,
       "version_minor": 0
      },
      "text/plain": [
       "sampling loop time step:   0%|          | 0/100 [00:00<?, ?it/s]"
      ]
     },
     "metadata": {},
     "output_type": "display_data"
    },
    {
     "data": {
      "application/vnd.jupyter.widget-view+json": {
       "model_id": "90ed2501d42d4ccd829f2a8a68cf02ac",
       "version_major": 2,
       "version_minor": 0
      },
      "text/plain": [
       "sampling loop time step:   0%|          | 0/100 [00:00<?, ?it/s]"
      ]
     },
     "metadata": {},
     "output_type": "display_data"
    },
    {
     "data": {
      "image/png": "[encoded data removed]",
      "text/plain": [
       "<Figure size 640x480 with 4 Axes>"
      ]
     },
     "metadata": {},
     "output_type": "display_data"
    }
   ],
   "source": [
    "def compare_empirical_cov(trainer, Config_ch, num_samples = 10 **3, bs=100, milestone=None):\n",
    "    # y = Hx = h, when H = diag(h) and x = (1,1,1,...,1,1)^T. \n",
    "    ## For such channel input, generative network can generate the channel state information h.\n",
    "\n",
    "    ## Load the model\n",
    "    if milestone is not None:\n",
    "        trainer.load(milestone=milestone)\n",
    "        print(f\"The trainer is loaded with the model of the {milestone}-th milestone.\")\n",
    "    \n",
    "    ## Sample the channel coefficients by using the identity channel input. \n",
    "    \n",
    "    condition_ones = torch.ones([bs, n], dtype=torch.cfloat, device=device)\n",
    "    condition_ones = torch.transpose(torch.view_as_real(condition_ones), 1,2).contiguous()\n",
    "    h_gen = torch.ones([num_samples // bs * bs, n], dtype=torch.cfloat)\n",
    "    for i in range(num_samples//bs):\n",
    "        generated_h = diffusion.sample(batch_size = bs, condition=condition_ones)\n",
    "        generated_h_t = torch.transpose(generated_h, 1,2)\n",
    "        generated_h_t = generated_h_t.contiguous() # After taking transpose, it's necessary. \n",
    "        \n",
    "        h_gen[i*bs:(i+1)*bs,:] = torch.view_as_complex(generated_h_t)\n",
    "    \n",
    "    cov_emp = torch.cov(h_gen.T).detach().cpu().numpy()\n",
    "    idx = np.arange(n)    \n",
    "    cov_emp[idx, idx] -= 2*noise_std ** 2\n",
    "    \n",
    "    fig_cov_comparison, [ax1, ax2] = plt.subplots(1,2)\n",
    "    im1 = ax1.imshow(Config_ch.cov.real, cmap='hot') # , interpolation='nearest')\n",
    "    ax1.set_title('defined cov.')\n",
    "    plt.colorbar(im1, ax=ax1, fraction=0.046, pad=0.04)\n",
    "    im2 = ax2.imshow(cov_emp.real, cmap='hot')#, interpolation='nearest')\n",
    "    ax2.set_title('emp. cov.')\n",
    "    plt.colorbar(im2, ax=ax2, fraction=0.046, pad=0.04)\n",
    "    fig_cov_comparison.suptitle(\n",
    "        r'$\\bar{f}_{D}$'+f'={Config_ch.f_dopp_norm}, milestone={milestone}, # of Samples={num_samples}', y=0.75)\n",
    "    fig_cov_comparison.tight_layout()\n",
    "    plt.savefig(f'figures/emp_cov_DM_vcos_fD_{f_dopp_norm:.3f}_ns{num_samples}_ms{milestone}.pdf')\n",
    "    plt.show()\n",
    "    return h_gen\n",
    "\n",
    "generated_h = compare_empirical_cov(trainer, Config_ch, num_samples = 10 **5, milestone=50)\n"
   ]
  },
  {
   "cell_type": "code",
   "execution_count": 14,
   "id": "b250d4d6-571d-4d44-ba8d-7aabb5fabdd3",
   "metadata": {},
   "outputs": [],
   "source": [
    "torch.save(generated_h, 'var/generated_h_vcos_ms{milestone}.pt')"
   ]
  },
  {
   "cell_type": "code",
   "execution_count": 16,
   "id": "4f39dc86-9064-4265-9545-03eba383ccd5",
   "metadata": {},
   "outputs": [
    {
     "data": {
      "image/png": "[encoded data removed]",
      "text/plain": [
       "<Figure size 300x300 with 2 Axes>"
      ]
     },
     "metadata": {},
     "output_type": "display_data"
    }
   ],
   "source": [
    "cov_emp = torch.cov(generated_h.T).detach().cpu().numpy()\n",
    "idx = np.arange(n)    \n",
    "cov_emp[idx, idx] -= 2*noise_std ** 2\n",
    "\n",
    "fig_cov_comparison, ax2 = plt.subplots(figsize=(3,3))\n",
    "im2 = ax2.imshow(cov_emp.real, cmap='hot')#, interpolation='nearest')\n",
    "#ax2.set_title('emp. cov.')\n",
    "plt.colorbar(im2, ax=ax2, fraction=0.046, pad=0.04)\n",
    "#fig_cov_comparison.suptitle(\n",
    "#    r'$\\bar{f}_{D}$'+f'={Config_ch.f_dopp_norm}, milestone={milestone}, # of Samples={num_samples}', y=0.75)\n",
    "fig_cov_comparison.tight_layout()\n",
    "plt.savefig(f'figures/emp_cov_DM_vcos_fD_{f_dopp_norm:.3f}_ns{1000}_ms{50}.pdf', bbox_inches='tight')\n",
    "plt.show()"
   ]
  },
  {
   "cell_type": "code",
   "execution_count": 18,
   "id": "36423857-b733-4393-bcb9-10c99580e802",
   "metadata": {},
   "outputs": [],
   "source": [
    "num_samples = 10**5\n",
    "bs = 100\n",
    "\n",
    "# Compute a matrix A such that A*A^H = Cov.\n",
    "        \n",
    "# Compute the Cholesky decomposition.\n",
    "A = torch.linalg.cholesky(Config_ch.cov, upper=False)  # torch.cholesky(Cov, upper=False)\n",
    "# print(torch.mm(A, A.conj().T))\n",
    "# print(Cov_h)\n",
    "A = A[None, :, :].repeat(bs, 1, 1).to(device)\n",
    "h_t = torch.zeros(num_samples//bs * bs, 2*n)\n",
    "\n",
    "for i in range(num_samples // bs):\n",
    "    # generate normally distributed matrices\n",
    "    h = torch.normal(mean=0., std=1., size=(bs, n), device=device, dtype=torch.cfloat)\n",
    "    h = h[:, :, None]\n",
    "    # Correlated channel matrices h = Ah,  A[n,n] h[n, 1]\n",
    "    h = torch.bmm(A, h)\n",
    "    h = h.view(bs, n)\n",
    "    h_t[bs*i:bs*(i+1),:] = torch.view_as_real(h).view(-1,2*n).contiguous()\n",
    "    "
   ]
  },
  {
   "cell_type": "code",
   "execution_count": 14,
   "id": "0b0317c0-aec6-4dca-9b11-9b1be3d92cbc",
   "metadata": {},
   "outputs": [],
   "source": [
    "def _sort_rows_tf(matrix, num_rows):\n",
    "  \"\"\"Sort matrix rows by the last column.\n",
    "\n",
    "  Args:\n",
    "      matrix: a matrix of values (row,col).\n",
    "      num_rows: (int) number of sorted rows to return from the matrix.\n",
    "\n",
    "  Returns:\n",
    "      Tensor (num_rows, col) of the sorted matrix top K rows.\n",
    "  \"\"\"\n",
    "  tmatrix = tf.transpose(a=matrix, perm=[1, 0])\n",
    "  sorted_tmatrix = tf.nn.top_k(tmatrix, num_rows)[0]\n",
    "  return tf.transpose(a=sorted_tmatrix, perm=[1, 0])\n",
    "\n",
    "def _sliced_wasserstein_tf(a, b, random_sampling_count, random_projection_dim):\n",
    "  \"\"\"Compute the approximate sliced Wasserstein distance.\n",
    "\n",
    "  Args:\n",
    "      a: (matrix) Distribution \"a\" of samples (row, col).\n",
    "      b: (matrix) Distribution \"b\" of samples (row, col).\n",
    "      random_sampling_count: (int) Number of random projections to average.\n",
    "      random_projection_dim: (int) Dimension of the random projection space.\n",
    "\n",
    "  Returns:\n",
    "      Float containing the approximate distance between \"a\" and \"b\".\n",
    "  \"\"\"\n",
    "  s = tf.shape(input=a)\n",
    "  means = []\n",
    "  for _ in range(random_sampling_count):\n",
    "    # Random projection matrix.\n",
    "    proj = tf.random.normal([tf.shape(input=a)[1], random_projection_dim])\n",
    "    proj *= tf.math.rsqrt(\n",
    "        tf.reduce_sum(input_tensor=tf.square(proj), axis=0, keepdims=True))\n",
    "    # Project both distributions and sort them.\n",
    "    proj_a = tf.matmul(a, proj)\n",
    "    proj_b = tf.matmul(b, proj)\n",
    "    proj_a = _sort_rows(proj_a, s[0])\n",
    "    proj_b = _sort_rows(proj_b, s[0])\n",
    "    # Pairwise Wasserstein distance.\n",
    "    wdist = tf.reduce_mean(input_tensor=tf.abs(proj_a - proj_b))\n",
    "    means.append(wdist)\n",
    "  return tf.reduce_mean(input_tensor=means)\n",
    "\n",
    "\n",
    "\n",
    "def _sort_rows(matrix, num_rows):\n",
    "  \"\"\"Sort matrix rows by the last column.\n",
    "\n",
    "  Args:\n",
    "      matrix: a matrix of values (row,col).\n",
    "      num_rows: (int) number of sorted rows to return from the matrix.\n",
    "\n",
    "  Returns:\n",
    "      Tensor (num_rows, col) of the sorted matrix top K rows.\n",
    "  \"\"\"\n",
    "  tmatrix = torch.transpose(matrix, 1, 0) \n",
    "  sorted_matrix = torch.topk(tmatrix, k=num_rows)[0] #tf.nn.top_k(tmatrix, num_rows)[0]\n",
    "  return torch.transpose(sorted_matrix, 1, 0) \n",
    "\n",
    "def _sliced_wasserstein(a, b, random_sampling_count, random_projection_dim=1):\n",
    "  \"\"\"Compute the approximate sliced Wasserstein distance.\n",
    "\n",
    "  Args:\n",
    "      a: (matrix) Distribution \"a\" of samples (row, col).\n",
    "      b: (matrix) Distribution \"b\" of samples (row, col).\n",
    "      random_sampling_count: (int) Number of random projections to average.\n",
    "      random_projection_dim: (int) Dimension of the random projection space.\n",
    "\n",
    "  Returns:\n",
    "      Float containing the approximate distance between \"a\" and \"b\".\n",
    "  \"\"\"\n",
    "  s = a.shape #tf.shape(input=a)\n",
    "  means = []\n",
    "  for _ in range(random_sampling_count):\n",
    "    # Random projection matrix.\n",
    "    proj = torch.randn(s[1], random_projection_dim) \n",
    "    proj *= (torch.sum(proj ** 2, dim=0)) ** (-0.5) # normalizing the projection \n",
    "    # Project both distributions and sort them.\n",
    "    proj_a = torch.matmul(a, proj) \n",
    "    proj_b = torch.matmul(b, proj) \n",
    "    proj_a = _sort_rows(proj_a, s[0])\n",
    "    proj_b = _sort_rows(proj_b, s[0])\n",
    "    # Pairwise Wasserstein distance.\n",
    "    wdist = torch.mean( torch.abs(proj_a - proj_b) ) \n",
    "    means.append(wdist)\n",
    "  return np.mean(means) \n"
   ]
  },
  {
   "cell_type": "code",
   "execution_count": 28,
   "id": "ca6d911c-8765-41e8-92d3-20e312c091bd",
   "metadata": {},
   "outputs": [
    {
     "name": "stdout",
     "output_type": "stream",
     "text": [
      "0.24970737\n"
     ]
    }
   ],
   "source": [
    "generated_h_t = torch.view_as_real(generated_h).view(-1,2*n)\n",
    "wasserstein_distance = _sliced_wasserstein(generated_h_t, h_t, 128)\n",
    "print(wasserstein_distance)"
   ]
  },
  {
   "cell_type": "code",
   "execution_count": 31,
   "id": "c65956d9-5663-45de-a79f-b8d7edb4cde0",
   "metadata": {},
   "outputs": [],
   "source": [
    "torch.save(generated_h_t, 'samples/DM_vcos_generated_h.pt')"
   ]
  },
  {
   "cell_type": "code",
   "execution_count": 26,
   "id": "f333800a-df3f-4823-9b5b-a67d956eff2d",
   "metadata": {},
   "outputs": [
    {
     "data": {
      "text/plain": [
       "torch.Size([100000, 256])"
      ]
     },
     "execution_count": 26,
     "metadata": {},
     "output_type": "execute_result"
    }
   ],
   "source": [
    "h_t.shape"
   ]
  },
  {
   "cell_type": "code",
   "execution_count": null,
   "id": "4ed14231-a8f6-4ce1-bcc3-0262b5a03547",
   "metadata": {},
   "outputs": [],
   "source": []
  }
 ],
 "metadata": {
  "accelerator": "GPU",
  "colab": {
   "provenance": [
    {
     "file_id": "https://github.com/muahkim/ChGen-CondDiffusion/blob/main/E2E_framework_Rayleigh_AWGN-M16N7.ipynb",
     "timestamp": 1666621806973
    }
   ]
  },
  "gpuClass": "standard",
  "kernelspec": {
   "display_name": "Python 3 (ipykernel)",
   "language": "python",
   "name": "python3"
  },
  "language_info": {
   "codemirror_mode": {
    "name": "ipython",
    "version": 3
   },
   "file_extension": ".py",
   "mimetype": "text/x-python",
   "name": "python",
   "nbconvert_exporter": "python",
   "pygments_lexer": "ipython3",
   "version": "3.10.12"
  }
 },
 "nbformat": 4,
 "nbformat_minor": 5
}
